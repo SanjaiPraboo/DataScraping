{
 "cells": [
  {
   "cell_type": "markdown",
   "metadata": {},
   "source": [
    "# Selenium\n",
    "allows us to access a web browser.  \n",
    "Especially required for webpages run on JavaScript\n",
    "\n",
    "1. Install selenium if you don't have it:\n",
    "\n",
    "    pip install selenium\n",
    "    \n",
    "\n",
    "2. download the relevant brower for use within your script path:\n",
    "\n",
    "    https://github.com/mozilla/geckodriver/releases  \n",
    "    https://sites.google.com/a/chromium.org/chromedriver/downloads\n",
    "\n",
    "## Download current rainfall data:\n",
    "Meteorological Service Singapore Rainfall observations"
   ]
  },
  {
   "cell_type": "code",
   "execution_count": null,
   "metadata": {
    "collapsed": true
   },
   "outputs": [],
   "source": [
    "url = 'http://www.weather.gov.sg/weather-currentobservations-rainfall'"
   ]
  },
  {
   "cell_type": "code",
   "execution_count": null,
   "metadata": {
    "collapsed": true
   },
   "outputs": [],
   "source": [
    "from bs4 import BeautifulSoup as bs\n",
    "import urllib.request as r\n",
    "from selenium import webdriver\n",
    "import pandas as pd\n",
    "import re"
   ]
  },
  {
   "cell_type": "markdown",
   "metadata": {},
   "source": [
    "require your *web driver* in folder:- \n",
    " - and put in path as below"
   ]
  },
  {
   "cell_type": "code",
   "execution_count": null,
   "metadata": {},
   "outputs": [],
   "source": [
    "driver = webdriver.Firefox(executable_path='../../WebDriver/geckodriver')"
   ]
  },
  {
   "cell_type": "markdown",
   "metadata": {
    "collapsed": true
   },
   "source": [
    "Retrieve the page:"
   ]
  },
  {
   "cell_type": "code",
   "execution_count": null,
   "metadata": {
    "collapsed": true
   },
   "outputs": [],
   "source": [
    "driver.get(url)"
   ]
  },
  {
   "cell_type": "code",
   "execution_count": null,
   "metadata": {
    "collapsed": true
   },
   "outputs": [],
   "source": [
    "html30mins = driver.page_source\n",
    "bsObj = bs(html30mins,\"lxml\")"
   ]
  },
  {
   "cell_type": "markdown",
   "metadata": {},
   "source": [
    "Get data timestamp:"
   ]
  },
  {
   "cell_type": "code",
   "execution_count": null,
   "metadata": {},
   "outputs": [],
   "source": [
    "element = bsObj.find(\"img\", {\"id\":\"basemap\"})\n",
    "# time pattern\n",
    "pattern_time = re.compile('[0-9]+:[0-9]+')\n",
    "timestamp = pattern_time.findall(element.attrs['src'])[0]\n",
    "timestamp"
   ]
  },
  {
   "cell_type": "code",
   "execution_count": null,
   "metadata": {
    "collapsed": true
   },
   "outputs": [],
   "source": [
    "# Location regex pattern\n",
    "pattern_loc = re.compile('<strong>(.*)</strong>')"
   ]
  },
  {
   "cell_type": "code",
   "execution_count": null,
   "metadata": {
    "collapsed": true
   },
   "outputs": [],
   "source": [
    "# Prepare dataframe\n",
    "df = pd.DataFrame(columns = ['Time', 'Station Id', 'Location', '30mins', '1hour', '2hours', 'Daily'])"
   ]
  },
  {
   "cell_type": "markdown",
   "metadata": {},
   "source": [
    "Get the default 30 mins rainfall data:"
   ]
  },
  {
   "cell_type": "code",
   "execution_count": null,
   "metadata": {
    "collapsed": true
   },
   "outputs": [],
   "source": [
    "dataset30mins =  bsObj.findAll(\"\",{\"class\":\"sgr\"})"
   ]
  },
  {
   "cell_type": "markdown",
   "metadata": {},
   "source": [
    "Get 1 hour data"
   ]
  },
  {
   "cell_type": "code",
   "execution_count": null,
   "metadata": {
    "collapsed": true
   },
   "outputs": [],
   "source": [
    "driver.find_element_by_id('1hour').click()"
   ]
  },
  {
   "cell_type": "code",
   "execution_count": null,
   "metadata": {
    "collapsed": true
   },
   "outputs": [],
   "source": [
    "html1hour = driver.page_source\n",
    "bsObj = bs(html1hour,\"lxml\")\n",
    "dataset1hour =  bsObj.findAll(\"\",{\"class\":\"sgr\"})"
   ]
  },
  {
   "cell_type": "markdown",
   "metadata": {},
   "source": [
    "Get 2 hour data"
   ]
  },
  {
   "cell_type": "code",
   "execution_count": null,
   "metadata": {
    "collapsed": true
   },
   "outputs": [],
   "source": [
    "driver.find_element_by_id('2hours').click()"
   ]
  },
  {
   "cell_type": "code",
   "execution_count": null,
   "metadata": {
    "collapsed": true
   },
   "outputs": [],
   "source": [
    "html2hours = driver.page_source\n",
    "bsObj = bs(html2hours,\"lxml\")\n",
    "dataset2hours =  bsObj.findAll(\"\",{\"class\":\"sgr\"})"
   ]
  },
  {
   "cell_type": "markdown",
   "metadata": {},
   "source": [
    "Get today's rainfall:"
   ]
  },
  {
   "cell_type": "code",
   "execution_count": null,
   "metadata": {
    "collapsed": true
   },
   "outputs": [],
   "source": [
    "driver.find_element_by_id('last').click()"
   ]
  },
  {
   "cell_type": "code",
   "execution_count": null,
   "metadata": {
    "collapsed": true
   },
   "outputs": [],
   "source": [
    "htmlToday = driver.page_source\n",
    "bsObj = bs(html2hours,\"lxml\")\n",
    "datasetToday =  bsObj.findAll(\"\",{\"class\":\"sgr\"})"
   ]
  },
  {
   "cell_type": "markdown",
   "metadata": {},
   "source": [
    "Put them together:"
   ]
  },
  {
   "cell_type": "code",
   "execution_count": null,
   "metadata": {
    "collapsed": true
   },
   "outputs": [],
   "source": [
    "i = 0\n",
    "for data in dataset30mins:\n",
    "    df = df.append({'Time':timestamp, \n",
    "                    'Station Id':data.get('id'), \n",
    "                    'Location':pattern_loc.search(data.get('data-content')).group(1),\n",
    "                    '30mins':data.get_text(), \n",
    "                    '1hour':dataset1hour[i].get_text(), \n",
    "                    '2hours':dataset2hours[i].get_text(),\n",
    "                    'Daily':datasetToday[i].get_text()}, \n",
    "                   ignore_index=True)\n",
    "    i+=1"
   ]
  },
  {
   "cell_type": "code",
   "execution_count": null,
   "metadata": {},
   "outputs": [],
   "source": [
    "df.head()"
   ]
  },
  {
   "cell_type": "markdown",
   "metadata": {},
   "source": [
    "#### References:\n",
    "http://stanford.edu/~mgorkove/cgi-bin/rpython_tutorials/Scraping_a_Webpage_Rendered_by_Javascript_Using_Python.php  \n",
    "http://selenium-python.readthedocs.io/  "
   ]
  }
 ],
 "metadata": {
  "kernelspec": {
   "display_name": "Python 3",
   "language": "python",
   "name": "python3"
  },
  "language_info": {
   "codemirror_mode": {
    "name": "ipython",
    "version": 3
   },
   "file_extension": ".py",
   "mimetype": "text/x-python",
   "name": "python",
   "nbconvert_exporter": "python",
   "pygments_lexer": "ipython3",
   "version": "3.6.3"
  }
 },
 "nbformat": 4,
 "nbformat_minor": 2
}
