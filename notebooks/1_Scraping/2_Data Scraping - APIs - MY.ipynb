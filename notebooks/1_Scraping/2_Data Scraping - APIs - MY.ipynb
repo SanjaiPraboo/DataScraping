{
 "cells": [
  {
   "cell_type": "markdown",
   "metadata": {},
   "source": [
    "# API\n",
    "Web APIS sometimes allows us to request for data, and the data requested is typically returned in the form of XML or JSON.  \n",
    "## json\n",
    "JavaScript object notation, JSON, is a lightweight text based syntax for data-interchange.  \n",
    "More lightweight than XML.\n",
    "### Malaysian Meteorological Department\n",
    "https://api.met.gov.my/"
   ]
  },
  {
   "cell_type": "code",
   "execution_count": null,
   "metadata": {
    "collapsed": true
   },
   "outputs": [],
   "source": [
    "import json"
   ]
  },
  {
   "cell_type": "markdown",
   "metadata": {},
   "source": [
    "Register for an API key at:  \n",
    "https://api.met.gov.my/"
   ]
  },
  {
   "cell_type": "code",
   "execution_count": null,
   "metadata": {
    "collapsed": true
   },
   "outputs": [],
   "source": [
    "key = ''\n",
    "token = 'METToken '+key"
   ]
  },
  {
   "cell_type": "markdown",
   "metadata": {},
   "source": [
    "Get the API link after login:  \n",
    "https://api.met.gov.my/dashboard/docs"
   ]
  },
  {
   "cell_type": "code",
   "execution_count": null,
   "metadata": {
    "collapsed": true
   },
   "outputs": [],
   "source": [
    "urlstations = 'https://api.met.gov.my/v2/stations'\n",
    "urllocations = 'https://api.met.gov.my/v2/locations?locationcategoryid=STATE'"
   ]
  },
  {
   "cell_type": "markdown",
   "metadata": {},
   "source": [
    "Send request, to retrieve json format object"
   ]
  },
  {
   "cell_type": "code",
   "execution_count": null,
   "metadata": {
    "collapsed": true
   },
   "outputs": [],
   "source": [
    "import requests"
   ]
  },
  {
   "cell_type": "code",
   "execution_count": null,
   "metadata": {},
   "outputs": [],
   "source": [
    "fileobj = requests.get(urllocations, headers={'Authorization':token})\n",
    "fileobj.text[:300]"
   ]
  },
  {
   "cell_type": "markdown",
   "metadata": {},
   "source": [
    "Parse JSON object into a dictionary"
   ]
  },
  {
   "cell_type": "code",
   "execution_count": null,
   "metadata": {},
   "outputs": [],
   "source": [
    "dict_text=json.loads(fileobj.text)"
   ]
  },
  {
   "cell_type": "markdown",
   "metadata": {},
   "source": [
    "Retrieve location id and name:"
   ]
  },
  {
   "cell_type": "code",
   "execution_count": null,
   "metadata": {},
   "outputs": [],
   "source": [
    "locations = {}\n",
    "for i in dict_text[\"results\"]:\n",
    "    locations[i[\"id\"]] = i[\"name\"]\n",
    "locations"
   ]
  },
  {
   "cell_type": "markdown",
   "metadata": {},
   "source": [
    "Using locations above, now we can retrieve forecast for each state:"
   ]
  },
  {
   "cell_type": "code",
   "execution_count": null,
   "metadata": {},
   "outputs": [],
   "source": [
    "forecasts = pd.Series()\n",
    "for i, loc in locations.iteritems():\n",
    "    urlob = 'https://api.met.gov.my/v2/data?datasetid=FORECAST&datacategoryid=GENERAL&locationid='+\\\n",
    "                i+'&start_date=2018-02-19&end_date=2018-02-19'\n",
    "    fileobj = requests.get(urlob, headers={'Authorization':token})\n",
    "    dict_text=json.loads(fileobj.text)\n",
    "    forecasts[loc] = dict_text['results'][0]['value'] \n",
    "forecasts"
   ]
  },
  {
   "cell_type": "markdown",
   "metadata": {},
   "source": [
    "## xml\n",
    "An alternate response format with APIs is xml format.\n",
    "## NEA\n",
    "https://www.nea.gov.sg/api"
   ]
  },
  {
   "cell_type": "code",
   "execution_count": null,
   "metadata": {
    "collapsed": true
   },
   "outputs": [],
   "source": [
    "import urllib.request as r\n",
    "from lxml import objectify"
   ]
  },
  {
   "cell_type": "markdown",
   "metadata": {},
   "source": [
    "Get an API key from NEA:  \n",
    "http://www.nea.gov.sg/api/api/nea-s-datasets#Register"
   ]
  },
  {
   "cell_type": "code",
   "execution_count": null,
   "metadata": {
    "collapsed": true
   },
   "outputs": [],
   "source": [
    "key = '781CF461BB6606ADC767F3B357E848ED4A6709A0B39C63D6'"
   ]
  },
  {
   "cell_type": "markdown",
   "metadata": {},
   "source": [
    "Get API string from nea developer's guide:  \n",
    "https://www.nea.gov.sg/docs/default-source/api/developer%27s-guide.pdf"
   ]
  },
  {
   "cell_type": "code",
   "execution_count": null,
   "metadata": {
    "collapsed": true
   },
   "outputs": [],
   "source": [
    "urlNowcast = 'http://api.nea.gov.sg/api/WebAPI/?dataset=2hr_nowcast&keyref=' + key"
   ]
  },
  {
   "cell_type": "code",
   "execution_count": null,
   "metadata": {},
   "outputs": [],
   "source": [
    "# Create request\n",
    "request = r.Request(urlNowcast)\n",
    "request.add_header('User-Agent', 'Mozilla/5.0')\n",
    "response = r.urlopen(request)\n",
    "response.read()[:500]"
   ]
  },
  {
   "cell_type": "markdown",
   "metadata": {},
   "source": [
    "Parse response using lxml's objectify:"
   ]
  },
  {
   "cell_type": "code",
   "execution_count": null,
   "metadata": {
    "collapsed": true
   },
   "outputs": [],
   "source": [
    "parsed = objectify.parse(r.urlopen(request))\n",
    "root = parsed.getroot()\n",
    "timestamp = root.item.forecastIssue.get('time')"
   ]
  },
  {
   "cell_type": "markdown",
   "metadata": {},
   "source": [
    "Loop to retrieve data:"
   ]
  },
  {
   "cell_type": "code",
   "execution_count": null,
   "metadata": {},
   "outputs": [],
   "source": [
    "print('Time ' + timestamp) \n",
    "for area in root.iter('area'):\n",
    "    print(area.get(\"name\") + '  Nowcast:' + area.get('forecast')\n",
    "         + '  Coordinates:' + area.get(\"lat\") + ',' + area.get(\"lon\"))"
   ]
  }
 ],
 "metadata": {
  "kernelspec": {
   "display_name": "Python 3",
   "language": "python",
   "name": "python3"
  },
  "language_info": {
   "codemirror_mode": {
    "name": "ipython",
    "version": 3
   },
   "file_extension": ".py",
   "mimetype": "text/x-python",
   "name": "python",
   "nbconvert_exporter": "python",
   "pygments_lexer": "ipython3",
   "version": "3.6.3"
  }
 },
 "nbformat": 4,
 "nbformat_minor": 2
}
