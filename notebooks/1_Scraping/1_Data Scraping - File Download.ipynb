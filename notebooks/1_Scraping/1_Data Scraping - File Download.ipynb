{
 "cells": [
  {
   "cell_type": "markdown",
   "metadata": {
    "collapsed": true
   },
   "source": [
    "# file download\n",
    "## data.gov.my - dengue data\n",
    "http://www.data.gov.my/data/en_US/dataset/jumlah-kes-kematian-akibat-wabak-denggi-yang-telah-dilaporkan-di-malaysia/resource/b2fea495-5a22-4677-b8e1-d7c25516d951"
   ]
  },
  {
   "cell_type": "code",
   "execution_count": null,
   "metadata": {
    "collapsed": true
   },
   "outputs": [],
   "source": [
    "import urllib.request as r"
   ]
  },
  {
   "cell_type": "code",
   "execution_count": null,
   "metadata": {
    "collapsed": true
   },
   "outputs": [],
   "source": [
    "# Paths\n",
    "OUT_PATH = '../../data/1_raw/MY_dengue.xlsx'\n",
    "URL = \"http://www.data.gov.my/data/dataset/63d41a34-f35c-4bd3-b380-c61bfb10949b/resource/bc0f93fa-f95b-4100-9d0f-a2d4c194b317/download/kesdenggi2010-2015.xlsx\""
   ]
  },
  {
   "cell_type": "markdown",
   "metadata": {},
   "source": [
    "Simple straightforward way, retrieve file and save to OUT_PATH:  \n",
    "legacy function from Python 2:"
   ]
  },
  {
   "cell_type": "code",
   "execution_count": null,
   "metadata": {},
   "outputs": [],
   "source": [
    "r.urlretrieve(URL, OUT_PATH)"
   ]
  },
  {
   "cell_type": "markdown",
   "metadata": {},
   "source": [
    "# Pythonic way of file download:\n",
    "## data.gov.sg - infectous disease data\n",
    "Download SG weekly infectious disease file from:  \n",
    "https://data.gov.sg/dataset/weekly-infectious-disease-bulletin-cases"
   ]
  },
  {
   "cell_type": "code",
   "execution_count": null,
   "metadata": {
    "collapsed": true
   },
   "outputs": [],
   "source": [
    "URL = \"https://data.gov.sg/dataset/e51da589-b2d7-486b-adfc-4505d47e1206/download\"\n",
    "FILE_NAME = \"../../data/1_raw/weekly-infectious-disease-bulletin-cases.zip\""
   ]
  },
  {
   "cell_type": "code",
   "execution_count": null,
   "metadata": {
    "collapsed": true
   },
   "outputs": [],
   "source": [
    "# add headers by building an opener\n",
    "opener = r.build_opener()\n",
    "opener.addheaders = [('User-agent', 'Mozilla/5.0')]"
   ]
  },
  {
   "cell_type": "code",
   "execution_count": null,
   "metadata": {
    "collapsed": true
   },
   "outputs": [],
   "source": [
    "# Download the file from `URL` and save it locally under `FILE_NAME`:\n",
    "with opener.open(URL) as response, open(FILE_NAME, 'wb') as out_file:\n",
    "    data = response.read() # a `bytes` object\n",
    "    out_file.write(data)"
   ]
  },
  {
   "cell_type": "markdown",
   "metadata": {},
   "source": [
    "#### References:\n",
    "https://docs.python.org/3/library/urllib.request.html"
   ]
  }
 ],
 "metadata": {
  "kernelspec": {
   "display_name": "Python 3",
   "language": "python",
   "name": "python3"
  },
  "language_info": {
   "codemirror_mode": {
    "name": "ipython",
    "version": 3
   },
   "file_extension": ".py",
   "mimetype": "text/x-python",
   "name": "python",
   "nbconvert_exporter": "python",
   "pygments_lexer": "ipython3",
   "version": "3.6.3"
  }
 },
 "nbformat": 4,
 "nbformat_minor": 2
}
