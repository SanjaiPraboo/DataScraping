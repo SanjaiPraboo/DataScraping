{
 "cells": [
  {
   "cell_type": "markdown",
   "metadata": {},
   "source": [
    "# API with xml reponse\n",
    "An alternate response format with APIs is xml format.\n",
    "## NEA\n",
    "https://www.nea.gov.sg/api\n",
    "\n",
    "\n",
    "Import modules:\n",
    " * urllib.request\n",
    " * objectify from lxml library"
   ]
  },
  {
   "cell_type": "code",
   "execution_count": 1,
   "metadata": {
    "collapsed": true
   },
   "outputs": [],
   "source": [
    "import urllib.request as r\n",
    "from lxml import objectify"
   ]
  },
  {
   "cell_type": "markdown",
   "metadata": {},
   "source": [
    "Get an API key from NEA:  \n",
    "http://www.nea.gov.sg/api/api/nea-s-datasets#Register"
   ]
  },
  {
   "cell_type": "code",
   "execution_count": 2,
   "metadata": {
    "collapsed": true
   },
   "outputs": [],
   "source": [
    "key = '781CF461BB6606ADC767F3B357E848ED4A6709A0B39C63D6'"
   ]
  },
  {
   "cell_type": "markdown",
   "metadata": {},
   "source": [
    "Get API string from nea developer's guide:  \n",
    "https://www.nea.gov.sg/docs/default-source/api/developer%27s-guide.pdf"
   ]
  },
  {
   "cell_type": "code",
   "execution_count": 3,
   "metadata": {
    "collapsed": true
   },
   "outputs": [],
   "source": [
    "urlNowcast = 'http://api.nea.gov.sg/api/WebAPI/?dataset=2hr_nowcast&keyref=' + key"
   ]
  },
  {
   "cell_type": "markdown",
   "metadata": {},
   "source": [
    "Create request:"
   ]
  },
  {
   "cell_type": "code",
   "execution_count": 4,
   "metadata": {},
   "outputs": [
    {
     "data": {
      "text/plain": [
       "b'<channel><title>2 Hour Forecast </title><source>Meteorological Services Singapore</source><description>2 Hour Forecast</description><item><title>Nowcast Table</title><category>Singapore Weather Conditions</category><forecastIssue date=\"14-12-2017\" time=\"09:30 PM\"/><validTime>9.30 pm to 11.30 pm</validTime><weatherForecast><area forecast=\"CL\" lat=\"1.37500000\" lon=\"103.83900000\" name=\"Ang Mo Kio\"/><area forecast=\"CL\" lat=\"1.32100000\" lon=\"103.92400000\" name=\"Bedok\"/><area forecast=\"CL\" lat=\"1.3507'"
      ]
     },
     "execution_count": 4,
     "metadata": {},
     "output_type": "execute_result"
    }
   ],
   "source": [
    "request = r.Request(urlNowcast)\n",
    "request.add_header('User-Agent', 'Mozilla/5.0')\n",
    "response = r.urlopen(request)\n",
    "response.read()[:500]"
   ]
  },
  {
   "cell_type": "markdown",
   "metadata": {},
   "source": [
    "Parse response using lxml's objectify:"
   ]
  },
  {
   "cell_type": "code",
   "execution_count": 5,
   "metadata": {
    "collapsed": true
   },
   "outputs": [],
   "source": [
    "parsed = objectify.parse(r.urlopen(request))\n",
    "root = parsed.getroot()\n",
    "timestamp = root.item.forecastIssue.get('time')"
   ]
  },
  {
   "cell_type": "markdown",
   "metadata": {},
   "source": [
    "Loop to retrieve data:"
   ]
  },
  {
   "cell_type": "code",
   "execution_count": 6,
   "metadata": {},
   "outputs": [
    {
     "name": "stdout",
     "output_type": "stream",
     "text": [
      "Time 09:30 PM\n",
      "Ang Mo Kio  Nowcast:CL  Coordinates:1.37500000,103.83900000\n",
      "Bedok  Nowcast:CL  Coordinates:1.32100000,103.92400000\n",
      "Bishan  Nowcast:CL  Coordinates:1.35077200,103.83900000\n",
      "Boon Lay  Nowcast:CL  Coordinates:1.30400000,103.70100000\n",
      "Bukit Batok  Nowcast:CL  Coordinates:1.35300000,103.75400000\n",
      "Bukit Merah  Nowcast:CL  Coordinates:1.27700000,103.81900000\n",
      "Bukit Panjang  Nowcast:CL  Coordinates:1.36200000,103.77195000\n",
      "Bukit Timah  Nowcast:CL  Coordinates:1.32500000,103.79100000\n",
      "Central Water Catchment  Nowcast:CL  Coordinates:1.38000000,103.80500000\n",
      "Changi  Nowcast:CL  Coordinates:1.35700000,103.98700000\n",
      "Choa Chu Kang  Nowcast:CL  Coordinates:1.37700000,103.74500000\n",
      "Clementi  Nowcast:CL  Coordinates:1.31500000,103.76000000\n",
      "City  Nowcast:CL  Coordinates:1.29200000,103.84400000\n",
      "Geylang  Nowcast:CL  Coordinates:1.31800000,103.88400000\n",
      "Hougang  Nowcast:CL  Coordinates:1.36121800,103.88600000\n",
      "Jalan Bahar  Nowcast:CL  Coordinates:1.34700000,103.67000000\n",
      "Jurong East  Nowcast:CL  Coordinates:1.32600000,103.73700000\n",
      "Jurong Island  Nowcast:CL  Coordinates:1.26600000,103.69900000\n",
      "Jurong West  Nowcast:CL  Coordinates:1.34039000,103.70500000\n",
      "Kallang  Nowcast:CL  Coordinates:1.31200000,103.86200000\n",
      "Lim Chu Kang  Nowcast:CL  Coordinates:1.42300000,103.71733200\n",
      "Mandai  Nowcast:CL  Coordinates:1.41900000,103.81200000\n",
      "Marine Parade  Nowcast:CL  Coordinates:1.29700000,103.89100000\n",
      "Novena  Nowcast:CL  Coordinates:1.32700000,103.82600000\n",
      "Pasir Ris  Nowcast:CL  Coordinates:1.37000000,103.94800000\n",
      "Paya Lebar  Nowcast:CL  Coordinates:1.35800000,103.91400000\n",
      "Pioneer  Nowcast:CL  Coordinates:1.31500000,103.67500000\n",
      "Pulau Tekong  Nowcast:LR  Coordinates:1.40300000,104.05300000\n",
      "Pulau Ubin  Nowcast:LR  Coordinates:1.40400000,103.96000000\n",
      "Punggol  Nowcast:CL  Coordinates:1.40100000,103.90400000\n",
      "Queenstown  Nowcast:CL  Coordinates:1.29100000,103.78576000\n",
      "Seletar  Nowcast:CL  Coordinates:1.40400000,103.86900000\n",
      "Sembawang  Nowcast:CL  Coordinates:1.44500000,103.81849500\n",
      "Sengkang  Nowcast:CL  Coordinates:1.38400000,103.89144300\n",
      "Sentosa  Nowcast:CL  Coordinates:1.24300000,103.83200000\n",
      "Serangoon  Nowcast:CL  Coordinates:1.35700000,103.86500000\n",
      "Southern Islands  Nowcast:CL  Coordinates:1.20800000,103.84200000\n",
      "Sungei Kadut  Nowcast:CL  Coordinates:1.41300000,103.75600000\n",
      "Tampines  Nowcast:CL  Coordinates:1.34500000,103.94400000\n",
      "Tanglin  Nowcast:CL  Coordinates:1.30800000,103.81300000\n",
      "Tengah  Nowcast:CL  Coordinates:1.37400000,103.71500000\n",
      "Toa Payoh  Nowcast:CL  Coordinates:1.33430400,103.85632700\n",
      "Tuas  Nowcast:CL  Coordinates:1.29494700,103.63500000\n",
      "Western Islands  Nowcast:CL  Coordinates:1.20592600,103.74600000\n",
      "Western Water Catchment  Nowcast:CL  Coordinates:1.40500000,103.68900000\n",
      "Woodlands  Nowcast:CL  Coordinates:1.43200000,103.78652800\n",
      "Yishun  Nowcast:CL  Coordinates:1.41800000,103.83900000\n"
     ]
    }
   ],
   "source": [
    "print('Time ' + timestamp) \n",
    "for area in root.iter('area'):\n",
    "    print(area.get(\"name\") + '  Nowcast:' + area.get('forecast')\n",
    "         + '  Coordinates:' + area.get(\"lat\") + ',' + area.get(\"lon\"))"
   ]
  }
 ],
 "metadata": {
  "kernelspec": {
   "display_name": "Python 3",
   "language": "python",
   "name": "python3"
  },
  "language_info": {
   "codemirror_mode": {
    "name": "ipython",
    "version": 3
   },
   "file_extension": ".py",
   "mimetype": "text/x-python",
   "name": "python",
   "nbconvert_exporter": "python",
   "pygments_lexer": "ipython3",
   "version": "3.6.3"
  }
 },
 "nbformat": 4,
 "nbformat_minor": 2
}
