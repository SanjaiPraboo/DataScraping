{
 "cells": [
  {
   "cell_type": "markdown",
   "metadata": {},
   "source": [
    "# Download historical weather data:\n",
    "## Inspect the webpage:  \n",
    "http://www.weather.gov.sg/climate-historical-daily/\n",
    "\n",
    "Import the following modules:-\n",
    " * BeautifulSoup  \n",
    " * urllib.request  \n",
    " * webdriver from selenium  \n",
    " * re  "
   ]
  },
  {
   "cell_type": "code",
   "execution_count": 1,
   "metadata": {
    "collapsed": true
   },
   "outputs": [],
   "source": [
    "from bs4 import BeautifulSoup as bs\n",
    "import urllib.request as r\n",
    "from selenium import webdriver\n",
    "import re"
   ]
  },
  {
   "cell_type": "markdown",
   "metadata": {},
   "source": [
    "Set url:"
   ]
  },
  {
   "cell_type": "code",
   "execution_count": 2,
   "metadata": {
    "collapsed": true
   },
   "outputs": [],
   "source": [
    "url = \"http://www.weather.gov.sg/climate-historical-daily/\""
   ]
  },
  {
   "cell_type": "markdown",
   "metadata": {},
   "source": [
    "Set webdriver:"
   ]
  },
  {
   "cell_type": "code",
   "execution_count": 3,
   "metadata": {
    "collapsed": true
   },
   "outputs": [],
   "source": [
    "driver = webdriver.PhantomJS(executable_path='../../WebDriver/phantomjs')"
   ]
  },
  {
   "cell_type": "markdown",
   "metadata": {},
   "source": [
    "Retrieve page:"
   ]
  },
  {
   "cell_type": "code",
   "execution_count": 4,
   "metadata": {
    "collapsed": true
   },
   "outputs": [],
   "source": [
    "driver.get(url)"
   ]
  },
  {
   "cell_type": "markdown",
   "metadata": {},
   "source": [
    "Gather BeautifulSoup object:"
   ]
  },
  {
   "cell_type": "code",
   "execution_count": 8,
   "metadata": {},
   "outputs": [],
   "source": [
    "bsObj = bs(html, 'html5lib')"
   ]
  },
  {
   "cell_type": "code",
   "execution_count": 9,
   "metadata": {
    "collapsed": true
   },
   "outputs": [],
   "source": [
    "html = driver.page_source\n",
    "bsObj = bs(html,\"lxml\")"
   ]
  },
  {
   "cell_type": "markdown",
   "metadata": {},
   "source": [
    "Find all links on page:"
   ]
  },
  {
   "cell_type": "code",
   "execution_count": 10,
   "metadata": {},
   "outputs": [
    {
     "data": {
      "text/plain": [
       "[<a href=\"http://www.weather.gov.sg/home\"><img alt=\"MSS\" height=\"71\" src=\"http://www.weather.gov.sg/wp-content/themes/wiptheme/assets/img/mss-logo.png\" width=\"254\"/></a>,\n",
       " <a href=\"http://www.gov.sg\"><img alt=\"Singapore Government\" height=\"30\" src=\"http://www.weather.gov.sg/wp-content/themes/wiptheme/assets/img/sg-gov-logo.jpg\" width=\"220\"/></a>,\n",
       " <a href=\"http://www.weather.gov.sg/about-contact-us/\">Contact Us</a>,\n",
       " <a class=\"dropdown-toggle\" data-toggle=\"dropdown\" href=\"#\">Weather</a>,\n",
       " <a href=\"http://www.weather.gov.sg/weather-forecast-2hrnowcast/\">2-hr Nowcast</a>,\n",
       " <a href=\"http://www.weather.gov.sg/weather-forecast-24hrforecast/\">24-hr Forecast</a>,\n",
       " <a href=\"http://www.weather.gov.sg/weather-forecast-4dayoutlook/\">4-Day Outlook</a>,\n",
       " <a href=\"http://www.weather.gov.sg/weather-fortnightly-outlook/\">Fortnightly Outlook</a>,\n",
       " <a href=\"http://www.weather.gov.sg/weather-forecast-monsoon-update/\">Monsoon Update</a>,\n",
       " <a href=\"http://www.weather.gov.sg/weather-world-forecast\">World Forecasts </a>,\n",
       " <a href=\"http://www.weather.gov.sg/weather-marine-waves-height\">Significant Wave</a>,\n",
       " <a href=\"http://www.weather.gov.sg/weather-marine-wind-waves\">Wind Wave</a>,\n",
       " <a href=\"http://www.weather.gov.sg/weather-marine-swell\">Swell</a>,\n",
       " <a href=\"http://www.weather.gov.sg/weather-marine-surface-wind\">Surface Wind</a>,\n",
       " <a href=\"http://www.weather.gov.sg/weather-marine-shipping-bulletin\">Marine Weather</a>,\n",
       " <a href=\"http://www.weather.gov.sg/lightning/\" target=\"_blank\">Lightning Information</a>,\n",
       " <a href=\"http://www.weather.gov.sg/weather-currentobservations-rainfall/\">Rainfall</a>,\n",
       " <a href=\"http://www.weather.gov.sg/weather-currentobservations-temperature/\">Temperature</a>,\n",
       " <a href=\"http://www.weather.gov.sg/weather-currentobservations-relative-humidity/\">Relative Humidity</a>,\n",
       " <a href=\"http://www.weather.gov.sg/weather-currentobservations-wind/\">Wind</a>,\n",
       " <a href=\"http://www.weather.gov.sg/weather-currentobservations-visibility/\">Visibility</a>,\n",
       " <a href=\"http://www.weather.gov.sg/weather-uv\">Ultraviolet Index (UVI) </a>,\n",
       " <a href=\"http://www.weather.gov.sg/weather-rain-area-50km\">Singapore</a>,\n",
       " <a href=\"http://www.weather.gov.sg/weather-rain-area-240km\">240km Range</a>,\n",
       " <a href=\"http://www.weather.gov.sg/weather-rain-area-480km\">480km Range</a>,\n",
       " <a href=\"http://www.weather.gov.sg/weather-astronomical-and-tidal-information-today\">Astronomical Data and Tides </a>,\n",
       " <a href=\"http://www.weather.gov.sg/weather-satellite-geo-stationary/\">Geostationary Satellite</a>,\n",
       " <a href=\"http://www.weather.gov.sg/weather-satellite-polar-orbiting/\">Polar Orbiting Satellite</a>,\n",
       " <a class=\"dropdown-toggle\" data-toggle=\"dropdown\" href=\"#\">Warnings and Advisories</a>,\n",
       " <a href=\"http://www.weather.gov.sg/warning-heavy-rain/\">Heavy Rain Warning </a>,\n",
       " <a href=\"http://www.weather.gov.sg/warning-haze-satellite-image/\">Latest Satellite Image</a>,\n",
       " <a href=\"http://www.weather.gov.sg/warning-haze-information/\">Regional Haze Map</a>,\n",
       " <a href=\"http://www.weather.gov.sg/warning-tropical-cyclone-information/\">Tropical Cyclone Information</a>,\n",
       " <a href=\"http://www.weather.gov.sg/warning-regional-seismic-information/\">Regional Earthquake/Tsunami</a>,\n",
       " <a href=\"http://www.weather.gov.sg/warning-volcanic-eruption/\">Regional Volcanic Eruptions </a>,\n",
       " <a class=\"dropdown-toggle\" data-toggle=\"dropdown\" href=\"#\">Climate</a>,\n",
       " <a href=\"http://www.weather.gov.sg/climate-historical-daily/\">Historical Daily Records </a>,\n",
       " <a href=\"http://www.weather.gov.sg/climate-historical-extremes/\">Rainfall</a>,\n",
       " <a href=\"http://www.weather.gov.sg/climate-historical-extremes-temperature/\">Temperature</a>,\n",
       " <a href=\"http://www.weather.gov.sg/climate-historical-extremes-humidity/\">Relative Humidity</a>,\n",
       " <a href=\"http://www.weather.gov.sg/climate-historical-extremes-wind/\">Wind</a>,\n",
       " <a href=\"http://www.weather.gov.sg/climate-detailed-view/\">Monthly and Annual Maps</a>,\n",
       " <a href=\"http://www.weather.gov.sg/climate-trends/\">Overview of All Annual Maps</a>,\n",
       " <a href=\"http://www.weather.gov.sg/climate-normals/\">Climate Normals</a>,\n",
       " <a href=\"http://www.weather.gov.sg/climate-climate-of-singapore/\">Climate Of Singapore </a>,\n",
       " <a href=\"http://www.weather.gov.sg/climate-world-climate/\">World Climate </a>,\n",
       " <a href=\"http://www.weather.gov.sg/climate-past-climate-trends/\">Past Climate Trends </a>,\n",
       " <a href=\"http://www.weather.gov.sg/climate-annual-climate-reports/\">Annual Reports </a>,\n",
       " <a href=\"http://www.weather.gov.sg/climate-el-la/\">El Niño / La Niña Status </a>,\n",
       " <a class=\"dropdown-toggle\" data-toggle=\"dropdown\" href=\"#\">Learn</a>,\n",
       " <a href=\"../learn_overview/\">Overview</a>,\n",
       " <a href=\"../learn_winds/\">Winds</a>,\n",
       " <a href=\"../learn_weather_systems/\">Weather Systems</a>,\n",
       " <a href=\"../learn_phenomena/\">Severe Weather</a>,\n",
       " <a href=\"../learn_climate/\">Climate</a>,\n",
       " <a href=\"../learn_tidal/\">Tides</a>,\n",
       " <a href=\"../learn_atmosphere/\">Earth’s Atmosphere</a>,\n",
       " <a href=\"../learn_clouds/\">Clouds</a>,\n",
       " <a href=\"../learn_observations/\">Observing the Weather</a>,\n",
       " <a href=\"../forecasting-2/\">Forecasting</a>,\n",
       " <a href=\"../learn-optical-effects/\">Optical Effects</a>,\n",
       " <a href=\"../learn_earthquakes/\">Earthquakes and Volcanoes</a>,\n",
       " <a class=\"dropdown-toggle\" data-toggle=\"dropdown\" href=\"#\">About MSS</a>,\n",
       " <a href=\"/about-our-organisation/\">Our Organisation</a>,\n",
       " <a href=\"/about-our-organisation/#vision\">Our Mission and Vision</a>,\n",
       " <a href=\"/about-corporate-logo/\">Corporate Logo</a>,\n",
       " <a href=\"/home-all-news/?yearnews=2015\">News</a>,\n",
       " <a href=\"http://www.weather.gov.sg/visitus/\">Visit Us</a>,\n",
       " <a href=\"/about-our-organisation/#structure\">Organisation Structure</a>,\n",
       " <a href=\"/about-MSS-timeline/\">Our History</a>,\n",
       " <a href=\"/about-our-organisation/\">Corporate Video</a>,\n",
       " <a href=\"http://www.weather.gov.sg/about-career/\">Careers</a>,\n",
       " <a href=\"/about-contact-us/\">Contact Us</a>,\n",
       " <a href=\"http://www.weather.gov.sg/home\">Home</a>,\n",
       " <a class=\"dropdown-toggle\" data-toggle=\"dropdown\" href=\"#\">Climate<span class=\"caret\"></span></a>,\n",
       " <a href=\"http://www.weather.gov.sg/weather-forecast-24hrforecast\">Weather</a>,\n",
       " <a href=\"http://www.weather.gov.sg/warning-heavy-rain\">Warnings and Advisories</a>,\n",
       " <a href=\"#Admiralty\" onclick=\"setYear('S104')\">Admiralty</a>,\n",
       " <a href=\"#Admiralty West\" onclick=\"setYear('S105')\">Admiralty West</a>,\n",
       " <a href=\"#Ang Mo Kio\" onclick=\"setYear('S109')\">Ang Mo Kio</a>,\n",
       " <a href=\"#Boon Lay (East)\" onclick=\"setYear('S86')\">Boon Lay (East)</a>,\n",
       " <a href=\"#Boon Lay (West)\" onclick=\"setYear('S63')\">Boon Lay (West)</a>,\n",
       " <a href=\"#Botanic Garden\" onclick=\"setYear('S120')\">Botanic Garden</a>,\n",
       " <a href=\"#Buangkok\" onclick=\"setYear('S55')\">Buangkok</a>,\n",
       " <a href=\"#Bukit Panjang\" onclick=\"setYear('S64')\">Bukit Panjang</a>,\n",
       " <a href=\"#Bukit Timah\" onclick=\"setYear('S90')\">Bukit Timah</a>,\n",
       " <a href=\"#Buona Vista\" onclick=\"setYear('S92')\">Buona Vista</a>,\n",
       " <a href=\"#Chai Chee\" onclick=\"setYear('S61')\">Chai Chee</a>,\n",
       " <a href=\"#Changi\" onclick=\"setYear('S24')\">Changi</a>,\n",
       " <a href=\"#Choa Chu Kang (Central)\" onclick=\"setYear('S114')\">Choa Chu Kang (Central)</a>,\n",
       " <a href=\"#Choa Chu Kang (South)\" onclick=\"setYear('S121')\">Choa Chu Kang (South)</a>,\n",
       " <a href=\"#Choa Chu Kang (West)\" onclick=\"setYear('S11')\">Choa Chu Kang (West)</a>,\n",
       " <a href=\"#Clementi\" onclick=\"setYear('S50')\">Clementi</a>,\n",
       " <a href=\"#Dhoby Ghaut\" onclick=\"setYear('S118')\">Dhoby Ghaut</a>,\n",
       " <a href=\"#East Coast Parkway\" onclick=\"setYear('S107')\">East Coast Parkway</a>,\n",
       " <a href=\"#Jurong (East)\" onclick=\"setYear('S39')\">Jurong (East)</a>,\n",
       " <a href=\"#Jurong (North)\" onclick=\"setYear('S101')\">Jurong (North)</a>,\n",
       " <a href=\"#Jurong (West)\" onclick=\"setYear('S44')\">Jurong (West)</a>,\n",
       " <a href=\"#Jurong Island\" onclick=\"setYear('S117')\">Jurong Island</a>,\n",
       " <a href=\"#Jurong Pier\" onclick=\"setYear('S33')\">Jurong Pier</a>,\n",
       " <a href=\"#Kampong Bahru\" onclick=\"setYear('S31')\">Kampong Bahru</a>,\n",
       " <a href=\"#Kent Ridge\" onclick=\"setYear('S71')\">Kent Ridge</a>,\n",
       " <a href=\"#Khatib\" onclick=\"setYear('S122')\">Khatib</a>,\n",
       " <a href=\"#Kranji Reservoir\" onclick=\"setYear('S66')\">Kranji Reservoir</a>,\n",
       " <a href=\"#Lim Chu Kang\" onclick=\"setYear('S112')\">Lim Chu Kang</a>,\n",
       " <a href=\"#Lower Peirce Reservoir\" onclick=\"setYear('S08')\">Lower Peirce Reservoir</a>,\n",
       " <a href=\"#Macritchie Reservoir\" onclick=\"setYear('S07')\">Macritchie Reservoir</a>,\n",
       " <a href=\"#Mandai\" onclick=\"setYear('S40')\">Mandai</a>,\n",
       " <a href=\"#Marina Barrage\" onclick=\"setYear('S108')\">Marina Barrage</a>,\n",
       " <a href=\"#Marine Parade\" onclick=\"setYear('S113')\">Marine Parade</a>,\n",
       " <a href=\"#Newton\" onclick=\"setYear('S111')\">Newton</a>,\n",
       " <a href=\"#Nicoll Highway\" onclick=\"setYear('S119')\">Nicoll Highway</a>,\n",
       " <a href=\"#Pasir Panjang\" onclick=\"setYear('S116')\">Pasir Panjang</a>,\n",
       " <a href=\"#Pasir Ris (Central)\" onclick=\"setYear('S94')\">Pasir Ris (Central)</a>,\n",
       " <a href=\"#Pasir Ris (West)\" onclick=\"setYear('S29')\">Pasir Ris (West)</a>,\n",
       " <a href=\"#Paya Lebar\" onclick=\"setYear('S06')\">Paya Lebar</a>,\n",
       " <a href=\"#Pulau Ubin\" onclick=\"setYear('S106')\">Pulau Ubin</a>,\n",
       " <a href=\"#Punggol\" onclick=\"setYear('S81')\">Punggol</a>,\n",
       " <a href=\"#Queenstown\" onclick=\"setYear('S77')\">Queenstown</a>,\n",
       " <a href=\"#Seletar\" onclick=\"setYear('S25')\">Seletar</a>,\n",
       " <a href=\"#Semakau Island\" onclick=\"setYear('S102')\">Semakau Island</a>,\n",
       " <a href=\"#Sembawang\" onclick=\"setYear('S80')\">Sembawang</a>,\n",
       " <a href=\"#Sentosa Island\" onclick=\"setYear('S60')\">Sentosa Island</a>,\n",
       " <a href=\"#Serangoon\" onclick=\"setYear('S36')\">Serangoon</a>,\n",
       " <a href=\"#Serangoon North\" onclick=\"setYear('S110')\">Serangoon North</a>,\n",
       " <a href=\"#Simei\" onclick=\"setYear('S84')\">Simei</a>,\n",
       " <a href=\"#Somerset (Road)\" onclick=\"setYear('S79')\">Somerset (Road)</a>,\n",
       " <a href=\"#Tai Seng\" onclick=\"setYear('S43')\">Tai Seng</a>,\n",
       " <a href=\"#Tanjong Katong\" onclick=\"setYear('S78')\">Tanjong Katong</a>,\n",
       " <a href=\"#Tanjong Pagar\" onclick=\"setYear('S72')\">Tanjong Pagar</a>,\n",
       " <a href=\"#Tengah\" onclick=\"setYear('S23')\">Tengah</a>,\n",
       " <a href=\"#Toa Payoh\" onclick=\"setYear('S88')\">Toa Payoh</a>,\n",
       " <a href=\"#Tuas\" onclick=\"setYear('S89')\">Tuas</a>,\n",
       " <a href=\"#Tuas South\" onclick=\"setYear('S115')\">Tuas South</a>,\n",
       " <a href=\"#Tuas West\" onclick=\"setYear('S82')\">Tuas West</a>,\n",
       " <a href=\"#Ulu Pandan\" onclick=\"setYear('S35')\">Ulu Pandan</a>,\n",
       " <a href=\"#Upper Peirce Reservoir\" onclick=\"setYear('S69')\">Upper Peirce Reservoir</a>,\n",
       " <a href=\"#Upper Thomson\" onclick=\"setYear('S46')\">Upper Thomson</a>,\n",
       " <a href=\"#Whampoa\" onclick=\"setYear('S123')\">Whampoa</a>,\n",
       " <a href=\"#Yishun\" onclick=\"setYear('S91')\">Yishun</a>,\n",
       " <a href=\"#January\">January</a>,\n",
       " <a href=\"#February\">February</a>,\n",
       " <a href=\"#March\">March</a>,\n",
       " <a href=\"#April\">April</a>,\n",
       " <a href=\"#May\">May</a>,\n",
       " <a href=\"#June\">June</a>,\n",
       " <a href=\"#July\">July</a>,\n",
       " <a href=\"#August\">August</a>,\n",
       " <a href=\"#September\">September</a>,\n",
       " <a href=\"#October\">October</a>,\n",
       " <a href=\"#November\">November</a>,\n",
       " <a href=\"#2017\" onclick=\"setMonth(2017)\">2017</a>,\n",
       " <a href=\"#2016\" onclick=\"setMonth(2016)\">2016</a>,\n",
       " <a href=\"#2015\" onclick=\"setMonth(2015)\">2015</a>,\n",
       " <a href=\"#2014\" onclick=\"setMonth(2014)\">2014</a>,\n",
       " <a href=\"#2013\" onclick=\"setMonth(2013)\">2013</a>,\n",
       " <a href=\"#2012\" onclick=\"setMonth(2012)\">2012</a>,\n",
       " <a href=\"#2011\" onclick=\"setMonth(2011)\">2011</a>,\n",
       " <a href=\"#2010\" onclick=\"setMonth(2010)\">2010</a>,\n",
       " <a href=\"#2009\" onclick=\"setMonth(2009)\">2009</a>,\n",
       " <a href=\"#2008\" onclick=\"setMonth(2008)\">2008</a>,\n",
       " <a href=\"#2007\" onclick=\"setMonth(2007)\">2007</a>,\n",
       " <a href=\"#2006\" onclick=\"setMonth(2006)\">2006</a>,\n",
       " <a href=\"#2005\" onclick=\"setMonth(2005)\">2005</a>,\n",
       " <a href=\"#2004\" onclick=\"setMonth(2004)\">2004</a>,\n",
       " <a href=\"#2003\" onclick=\"setMonth(2003)\">2003</a>,\n",
       " <a href=\"#2002\" onclick=\"setMonth(2002)\">2002</a>,\n",
       " <a href=\"#2001\" onclick=\"setMonth(2001)\">2001</a>,\n",
       " <a href=\"#2000\" onclick=\"setMonth(2000)\">2000</a>,\n",
       " <a href=\"#1999\" onclick=\"setMonth(1999)\">1999</a>,\n",
       " <a href=\"#1998\" onclick=\"setMonth(1998)\">1998</a>,\n",
       " <a href=\"#1997\" onclick=\"setMonth(1997)\">1997</a>,\n",
       " <a href=\"#1996\" onclick=\"setMonth(1996)\">1996</a>,\n",
       " <a href=\"#1995\" onclick=\"setMonth(1995)\">1995</a>,\n",
       " <a href=\"#1994\" onclick=\"setMonth(1994)\">1994</a>,\n",
       " <a href=\"#1993\" onclick=\"setMonth(1993)\">1993</a>,\n",
       " <a href=\"#1992\" onclick=\"setMonth(1992)\">1992</a>,\n",
       " <a href=\"#1991\" onclick=\"setMonth(1991)\">1991</a>,\n",
       " <a href=\"#1990\" onclick=\"setMonth(1990)\">1990</a>,\n",
       " <a href=\"#1989\" onclick=\"setMonth(1989)\">1989</a>,\n",
       " <a href=\"#1988\" onclick=\"setMonth(1988)\">1988</a>,\n",
       " <a href=\"#1987\" onclick=\"setMonth(1987)\">1987</a>,\n",
       " <a href=\"#1986\" onclick=\"setMonth(1986)\">1986</a>,\n",
       " <a href=\"#1985\" onclick=\"setMonth(1985)\">1985</a>,\n",
       " <a href=\"#1984\" onclick=\"setMonth(1984)\">1984</a>,\n",
       " <a href=\"#1983\" onclick=\"setMonth(1983)\">1983</a>,\n",
       " <a href=\"#1982\" onclick=\"setMonth(1982)\">1982</a>,\n",
       " <a href=\"#1981\" onclick=\"setMonth(1981)\">1981</a>,\n",
       " <a href=\"#1980\" onclick=\"setMonth(1980)\">1980</a>,\n",
       " <a class=\"myload\" download=\"\" href=\"http://www.weather.gov.sg/files/dailydata/DAILYDATA_S24_201711.csv\">CSV</a>,\n",
       " <a class=\"myload\" download=\"\" href=\"http://www.weather.gov.sg/files/dailydata/DAILYDATA_S24_201711.pdf\">PDF</a>,\n",
       " <a href=\"../wp-content/uploads/2016/12/Station_Records.pdf\" target=\"_blank\" title=\"Station Records\">here</a>,\n",
       " <a href=\"../climate-historical-extremes/\" title=\"Historical Extremes\">Historical Extremes</a>,\n",
       " <a href=\"../climate-climate-of-singapore/\" title=\"Climatology of Singapore\">Climate of Singapore</a>,\n",
       " <a href=\"../climate-detailed-view/\" title=\"Climate Maps\">Climate Maps</a>,\n",
       " <a href=\"../learn_climate/\">Difference between weather and climate</a>,\n",
       " <a href=\"../learn_climate/#climate4\">Function of a climate station</a>,\n",
       " <a href=\"../learn_climate/#climate3\">Climate variability and climate change</a>,\n",
       " <a href=\"/about-our-organisation/\">Our Organisation</a>,\n",
       " <a href=\"/about-our-organisation/#structure\">Organisation Structure</a>,\n",
       " <a href=\"/about-our-organisation/#vision\">Our Mission and Vision</a>,\n",
       " <a href=\"/about-corporate-logo/\">Corporate Logo</a>,\n",
       " <a href=\"/about-MSS-timeline/\">Our History</a>,\n",
       " <a href=\"/about-our-organisation/\">Corporate Video</a>,\n",
       " <a href=\"/home-all-news/?yearnews=2015\">News</a>,\n",
       " <a href=\"http://www.weather.gov.sg/about-career/\">Careers</a>,\n",
       " <a href=\"http://www.weather.gov.sg/visitus/\">Visit Us</a>,\n",
       " <a href=\"/about-contact-us/\">Contact Us</a>,\n",
       " <a href=\"http://www.weather.gov.sg/weather-forecast-24hrforecast/\">Forecasts</a>,\n",
       " <a href=\"http://www.weather.gov.sg/weather-currentobservations-rainfall/\">Current Observations</a>,\n",
       " <a href=\"http://www.weather.gov.sg/weather-rain-area-50km/\">Rain Areas</a>,\n",
       " <a href=\"http://www.weather.gov.sg/weather-satellite-geo-stationary/\">Satellite Images</a>,\n",
       " <a href=\"http://www.weather.gov.sg/lightning/\" target=\"_blank\">Lightning Information</a>,\n",
       " <a href=\"http://www.weather.gov.sg/weather-marine-waves-height/\">Marine Forecasts</a>,\n",
       " <a href=\"http://www.weather.gov.sg/weather-world-forecast/\">World Forecasts</a>,\n",
       " <a href=\"http://www.weather.gov.sg/weather-uv/\">UV Index</a>,\n",
       " <a href=\"http://www.weather.gov.sg/weather-astronomical-and-tidal-information-today/\">Astronomical Data and Tides</a>,\n",
       " <a href=\"http://www.weather.gov.sg/climate-historical-daily/\">Historical Daily Records</a>,\n",
       " <a href=\"http://www.weather.gov.sg/climate-historical-extremes/\">Historical Extremes</a>,\n",
       " <a href=\"http://www.weather.gov.sg/climate-world-climate/\">World Climate</a>,\n",
       " <a href=\"http://www.weather.gov.sg/climate-trends/\">Climate Maps</a>,\n",
       " <a href=\"http://www.weather.gov.sg/climate-climate-of-singapore/\">Climate Of Singapore</a>,\n",
       " <a href=\"http://www.weather.gov.sg/climate-past-climate-trends/\">Past Climate Trends</a>,\n",
       " <a href=\"http://www.weather.gov.sg/climate-annual-climate-reports/\">Annual Reports</a>,\n",
       " <a href=\"http://www.weather.gov.sg/climate-el-la/\">El Niño / La Niña Status</a>,\n",
       " <a href=\"http://www.weather.gov.sg/warning-heavy-rain/\">Heavy Rain Warning</a>,\n",
       " <a href=\"http://www.weather.gov.sg/warning-haze-satellite-image/\">Haze Information</a>,\n",
       " <a href=\"http://www.weather.gov.sg/warning-tropical-cyclone-information/\">Tropical Cyclone Information</a>,\n",
       " <a href=\"http://www.weather.gov.sg/warning-regional-seismic-information/\">Regional Earthquakes/Tsunami</a>,\n",
       " <a href=\"http://www.weather.gov.sg/warning-volcanic-eruption/\">Regional Volcanic Eruptions</a>,\n",
       " <a href=\"../learn_overview/\">Overview</a>,\n",
       " <a href=\"../learn_atmosphere/\">Earth’s Atmosphere</a>,\n",
       " <a href=\"../learn_winds/\">Winds</a>,\n",
       " <a href=\"../learn_clouds/\">Clouds</a>,\n",
       " <a href=\"../learn_weather_systems/\">Weather Systems</a>,\n",
       " <a href=\"../learn_observations/\">Observing the Weather</a>,\n",
       " <a href=\"../learn_phenomena/\">Severe Weather</a>,\n",
       " <a href=\"../forecasting-2/\">Forecasting</a>,\n",
       " <a href=\"../learn_climate/\">Climate</a>,\n",
       " <a href=\"../learn-optical-effects/\">Optical Effects</a>,\n",
       " <a href=\"../learn_tidal/\">Tides</a>,\n",
       " <a href=\"../learn_earthquakes/\">Earthquakes and Volcanoes</a>,\n",
       " <a href=\"http://ccrs.weather.gov.sg/\">Centre for Climate Research Singapore</a>,\n",
       " <a href=\"http://asmc.asean.org/\" target=\"_blank\">ASEAN Specialised Meteorological Centre</a>,\n",
       " <a href=\"http://www.nea.gov.sg/\">National Environment Agency</a>,\n",
       " <a href=\"http://www.mewr.gov.sg/\">Ministry of the Environment and Water Resources</a>,\n",
       " <a href=\"https://www.weather.gov.sg/wip-login.php\" target=\"_new\">Login</a>,\n",
       " <a href=\"http://www.weather.gov.sg/terms-of-use\">Terms of Use</a>,\n",
       " <a href=\"http://www.weather.gov.sg/privacy\">Privacy policy</a>,\n",
       " <a href=\"http://www.weather.gov.sg/rate-this-website\">Rate this site</a>,\n",
       " <a href=\"http://www.weather.gov.sg/supported-browsers\">Supported Browsers</a>,\n",
       " <a href=\"http://www.weather.gov.sg/rss-feed\"><img alt=\"RSS\" height=\"21\" src=\"http://www.weather.gov.sg/wp-content/themes/wiptheme/assets/img/icon-rss.png\" width=\"22\"/></a>,\n",
       " <a href=\"https://twitter.com/MetServiceSG\" target=\"_blank\"><img alt=\"Twitter\" height=\"21\" src=\"http://www.weather.gov.sg/wp-content/themes/wiptheme/assets/img/icon-twitter.png\" width=\"22\"/></a>,\n",
       " <a href=\"https://www.youtube.com/user/MetServiceSG\" target=\"_blank\"><img alt=\"Youtube\" height=\"23\" src=\"http://www.weather.gov.sg/wp-content/themes/wiptheme/assets/img/icon-youtube.png\" width=\"23\"/></a>]"
      ]
     },
     "execution_count": 10,
     "metadata": {},
     "output_type": "execute_result"
    }
   ],
   "source": [
    "bsObj.find_all('a')"
   ]
  },
  {
   "cell_type": "markdown",
   "metadata": {},
   "source": [
    "## Download a csv dataset\n",
    "Set opener:"
   ]
  },
  {
   "cell_type": "code",
   "execution_count": 11,
   "metadata": {
    "collapsed": true
   },
   "outputs": [],
   "source": [
    "opener = r.build_opener()\n",
    "opener.addheaders = [('User-agent', 'Mozilla/5.0')]"
   ]
  },
  {
   "cell_type": "markdown",
   "metadata": {},
   "source": [
    "Create output directory:"
   ]
  },
  {
   "cell_type": "code",
   "execution_count": 12,
   "metadata": {
    "collapsed": true
   },
   "outputs": [],
   "source": [
    "import os\n",
    "out_path = \"../../data/1_raw/SG_weather/\"\n",
    "if not os.path.exists(out_path):\n",
    "    os.makedirs(out_path)"
   ]
  },
  {
   "cell_type": "markdown",
   "metadata": {},
   "source": [
    "Retrieve link from BeautifulSoup object:"
   ]
  },
  {
   "cell_type": "code",
   "execution_count": 13,
   "metadata": {},
   "outputs": [
    {
     "data": {
      "text/plain": [
       "'http://www.weather.gov.sg/files/dailydata/DAILYDATA_S24_201711.csv'"
      ]
     },
     "execution_count": 13,
     "metadata": {},
     "output_type": "execute_result"
    }
   ],
   "source": [
    "link = bsObj.find('a', text=\"CSV\")['href']\n",
    "link"
   ]
  },
  {
   "cell_type": "markdown",
   "metadata": {},
   "source": [
    "Get filename:"
   ]
  },
  {
   "cell_type": "code",
   "execution_count": 14,
   "metadata": {},
   "outputs": [
    {
     "data": {
      "text/plain": [
       "SplitResult(scheme='http', netloc='www.weather.gov.sg', path='/files/dailydata/DAILYDATA_S24_201711.csv', query='', fragment='')"
      ]
     },
     "execution_count": 14,
     "metadata": {},
     "output_type": "execute_result"
    }
   ],
   "source": [
    "from urllib.parse import urlsplit\n",
    "urlsplit(link)"
   ]
  },
  {
   "cell_type": "code",
   "execution_count": 15,
   "metadata": {},
   "outputs": [
    {
     "data": {
      "text/plain": [
       "'DAILYDATA_S24_201711.csv'"
      ]
     },
     "execution_count": 15,
     "metadata": {},
     "output_type": "execute_result"
    }
   ],
   "source": [
    "filename = os.path.basename(urlsplit(link).path)\n",
    "filename"
   ]
  },
  {
   "cell_type": "markdown",
   "metadata": {},
   "source": [
    "Download the file from and save it:"
   ]
  },
  {
   "cell_type": "code",
   "execution_count": 16,
   "metadata": {
    "collapsed": true
   },
   "outputs": [],
   "source": [
    "with opener.open(link) as response, open(out_path+filename, 'wb') as out_file:\n",
    "    data = response.read() # a `bytes` object\n",
    "    out_file.write(data)"
   ]
  },
  {
   "cell_type": "markdown",
   "metadata": {},
   "source": [
    "## Retrieve all historical data\n",
    "Examining the website, we will find the best way to retrieve all data:\n",
    " * loop through all the weather stations\n",
    " * then loop through the years\n",
    " * followed by the months\n",
    " * finally retrieve the CSV file links for that month of year of the station\n",
    "\n",
    "Get list of cityname:"
   ]
  },
  {
   "cell_type": "code",
   "execution_count": 17,
   "metadata": {
    "collapsed": true
   },
   "outputs": [],
   "source": [
    "list_cityname = bsObj.find('button',id=\"cityname\").find_next_sibling()"
   ]
  },
  {
   "cell_type": "markdown",
   "metadata": {},
   "source": [
    "Loop to retrieve weather stations:"
   ]
  },
  {
   "cell_type": "code",
   "execution_count": 18,
   "metadata": {
    "collapsed": true
   },
   "outputs": [],
   "source": [
    "citynames = []\n",
    "for item in list_cityname.children:\n",
    "    if not item.isspace:\n",
    "        cityname = item.find('a').text\n",
    "        citynames.append(cityname)"
   ]
  },
  {
   "cell_type": "code",
   "execution_count": 19,
   "metadata": {},
   "outputs": [
    {
     "data": {
      "text/plain": [
       "['Admiralty',\n",
       " 'Admiralty West',\n",
       " 'Ang Mo Kio',\n",
       " 'Boon Lay (East)',\n",
       " 'Boon Lay (West)',\n",
       " 'Botanic Garden',\n",
       " 'Buangkok',\n",
       " 'Bukit Panjang',\n",
       " 'Bukit Timah',\n",
       " 'Buona Vista',\n",
       " 'Chai Chee',\n",
       " 'Changi',\n",
       " 'Choa Chu Kang (Central)',\n",
       " 'Choa Chu Kang (South)',\n",
       " 'Choa Chu Kang (West)',\n",
       " 'Clementi',\n",
       " 'Dhoby Ghaut',\n",
       " 'East Coast Parkway',\n",
       " 'Jurong (East)',\n",
       " 'Jurong (North)',\n",
       " 'Jurong (West)',\n",
       " 'Jurong Island',\n",
       " 'Jurong Pier',\n",
       " 'Kampong Bahru',\n",
       " 'Kent Ridge',\n",
       " 'Khatib',\n",
       " 'Kranji Reservoir',\n",
       " 'Lim Chu Kang',\n",
       " 'Lower Peirce Reservoir',\n",
       " 'Macritchie Reservoir',\n",
       " 'Mandai',\n",
       " 'Marina Barrage',\n",
       " 'Marine Parade',\n",
       " 'Newton',\n",
       " 'Nicoll Highway',\n",
       " 'Pasir Panjang',\n",
       " 'Pasir Ris (Central)',\n",
       " 'Pasir Ris (West)',\n",
       " 'Paya Lebar',\n",
       " 'Pulau Ubin',\n",
       " 'Punggol',\n",
       " 'Queenstown',\n",
       " 'Seletar',\n",
       " 'Semakau Island',\n",
       " 'Sembawang',\n",
       " 'Sentosa Island',\n",
       " 'Serangoon',\n",
       " 'Serangoon North',\n",
       " 'Simei',\n",
       " 'Somerset (Road)',\n",
       " 'Tai Seng',\n",
       " 'Tanjong Katong',\n",
       " 'Tanjong Pagar',\n",
       " 'Tengah',\n",
       " 'Toa Payoh',\n",
       " 'Tuas',\n",
       " 'Tuas South',\n",
       " 'Tuas West',\n",
       " 'Ulu Pandan',\n",
       " 'Upper Peirce Reservoir',\n",
       " 'Upper Thomson',\n",
       " 'Whampoa',\n",
       " 'Yishun']"
      ]
     },
     "execution_count": 19,
     "metadata": {},
     "output_type": "execute_result"
    }
   ],
   "source": [
    "citynames"
   ]
  },
  {
   "cell_type": "markdown",
   "metadata": {},
   "source": [
    "Find button ids for month and year:"
   ]
  },
  {
   "cell_type": "code",
   "execution_count": 20,
   "metadata": {
    "collapsed": true
   },
   "outputs": [],
   "source": [
    "# similarly set button id for month and year\n",
    "id_month = 'month'\n",
    "id_year = 'year'"
   ]
  },
  {
   "cell_type": "markdown",
   "metadata": {},
   "source": [
    "import time module to let us wait to allow for page to load."
   ]
  },
  {
   "cell_type": "code",
   "execution_count": 21,
   "metadata": {
    "collapsed": true
   },
   "outputs": [],
   "source": [
    "import time"
   ]
  },
  {
   "cell_type": "markdown",
   "metadata": {},
   "source": [
    "Set driver:"
   ]
  },
  {
   "cell_type": "code",
   "execution_count": 22,
   "metadata": {
    "collapsed": true
   },
   "outputs": [],
   "source": [
    "driver = webdriver.PhantomJS(executable_path='../../WebDriver/phantomjs')\n",
    "driver.get(url)"
   ]
  },
  {
   "cell_type": "markdown",
   "metadata": {},
   "source": [
    "Set function to return html page after each click:"
   ]
  },
  {
   "cell_type": "code",
   "execution_count": 23,
   "metadata": {
    "collapsed": true
   },
   "outputs": [],
   "source": [
    "def get_html(id_str, link_text):\n",
    "    driver.find_element_by_id(id_str).click()\n",
    "    driver.find_element_by_link_text(link_text).click()\n",
    "    time.sleep(1)\n",
    "    if id_str==id_month :\n",
    "        driver.find_element_by_id('display').click()\n",
    "        time.sleep(2)\n",
    "    return driver.page_source"
   ]
  },
  {
   "cell_type": "markdown",
   "metadata": {},
   "source": [
    "Create loop to retrieve links of all historical weather data:"
   ]
  },
  {
   "cell_type": "code",
   "execution_count": 24,
   "metadata": {
    "collapsed": true
   },
   "outputs": [],
   "source": [
    "valid_months = ['December',\n",
    "               'November',\n",
    "               'October',\n",
    "               'September',\n",
    "               'August',\n",
    "               'July',\n",
    "               'June',\n",
    "               'May',\n",
    "               'April',\n",
    "               'March',\n",
    "               'February',\n",
    "               'January']"
   ]
  },
  {
   "cell_type": "code",
   "execution_count": 26,
   "metadata": {},
   "outputs": [
    {
     "name": "stdout",
     "output_type": "stream",
     "text": [
      "http://www.weather.gov.sg/files/dailydata/DAILYDATA_S104_201711.csv\n",
      "http://www.weather.gov.sg/files/dailydata/DAILYDATA_S104_201710.csv\n",
      "http://www.weather.gov.sg/files/dailydata/DAILYDATA_S104_201708.csv\n",
      "http://www.weather.gov.sg/files/dailydata/DAILYDATA_S104_201707.csv\n",
      "http://www.weather.gov.sg/files/dailydata/DAILYDATA_S104_201705.csv\n",
      "http://www.weather.gov.sg/files/dailydata/DAILYDATA_S104_201704.csv\n",
      "http://www.weather.gov.sg/files/dailydata/DAILYDATA_S104_201703.csv\n",
      "http://www.weather.gov.sg/files/dailydata/DAILYDATA_S104_201702.csv\n",
      "http://www.weather.gov.sg/files/dailydata/DAILYDATA_S104_201612.csv\n",
      "http://www.weather.gov.sg/files/dailydata/DAILYDATA_S104_201611.csv\n",
      "http://www.weather.gov.sg/files/dailydata/DAILYDATA_S104_201609.csv\n",
      "http://www.weather.gov.sg/files/dailydata/DAILYDATA_S104_201608.csv\n",
      "http://www.weather.gov.sg/files/dailydata/DAILYDATA_S104_201607.csv\n",
      "http://www.weather.gov.sg/files/dailydata/DAILYDATA_S104_201606.csv\n",
      "http://www.weather.gov.sg/files/dailydata/DAILYDATA_S104_201604.csv\n",
      "http://www.weather.gov.sg/files/dailydata/DAILYDATA_S104_201603.csv\n",
      "http://www.weather.gov.sg/files/dailydata/DAILYDATA_S104_201601.csv\n",
      "http://www.weather.gov.sg/files/dailydata/DAILYDATA_S104_201512.csv\n",
      "http://www.weather.gov.sg/files/dailydata/DAILYDATA_S104_201511.csv\n",
      "http://www.weather.gov.sg/files/dailydata/DAILYDATA_S104_201510.csv\n",
      "http://www.weather.gov.sg/files/dailydata/DAILYDATA_S104_201509.csv\n",
      "http://www.weather.gov.sg/files/dailydata/DAILYDATA_S104_201507.csv\n",
      "http://www.weather.gov.sg/files/dailydata/DAILYDATA_S104_201504.csv\n"
     ]
    },
    {
     "ename": "TypeError",
     "evalue": "'NoneType' object is not subscriptable",
     "output_type": "error",
     "traceback": [
      "\u001b[0;31m---------------------------------------------------------------------------\u001b[0m",
      "\u001b[0;31mTypeError\u001b[0m                                 Traceback (most recent call last)",
      "\u001b[0;32m<ipython-input-26-bcfa5361169f>\u001b[0m in \u001b[0;36m<module>\u001b[0;34m()\u001b[0m\n\u001b[1;32m     21\u001b[0m                     \u001b[0mhtml_month\u001b[0m \u001b[0;34m=\u001b[0m \u001b[0mget_html\u001b[0m\u001b[0;34m(\u001b[0m\u001b[0mid_month\u001b[0m\u001b[0;34m,\u001b[0m \u001b[0mmonth\u001b[0m\u001b[0;34m)\u001b[0m\u001b[0;34m\u001b[0m\u001b[0m\n\u001b[1;32m     22\u001b[0m                     \u001b[0mbs_month\u001b[0m \u001b[0;34m=\u001b[0m \u001b[0mbs\u001b[0m\u001b[0;34m(\u001b[0m\u001b[0mhtml_month\u001b[0m\u001b[0;34m,\u001b[0m\u001b[0;34m\"lxml\"\u001b[0m\u001b[0;34m)\u001b[0m\u001b[0;34m\u001b[0m\u001b[0m\n\u001b[0;32m---> 23\u001b[0;31m                     \u001b[0mlink\u001b[0m \u001b[0;34m=\u001b[0m \u001b[0mbs_month\u001b[0m\u001b[0;34m.\u001b[0m\u001b[0mfind\u001b[0m\u001b[0;34m(\u001b[0m\u001b[0;34m'a'\u001b[0m\u001b[0;34m,\u001b[0m \u001b[0mtext\u001b[0m\u001b[0;34m=\u001b[0m\u001b[0;34m\"CSV\"\u001b[0m\u001b[0;34m)\u001b[0m\u001b[0;34m[\u001b[0m\u001b[0;34m'href'\u001b[0m\u001b[0;34m]\u001b[0m\u001b[0;34m\u001b[0m\u001b[0m\n\u001b[0m\u001b[1;32m     24\u001b[0m                     \u001b[0;32mif\u001b[0m \u001b[0mlink\u001b[0m \u001b[0;32mnot\u001b[0m \u001b[0;32min\u001b[0m \u001b[0mfile_links\u001b[0m\u001b[0;34m:\u001b[0m\u001b[0;34m\u001b[0m\u001b[0m\n\u001b[1;32m     25\u001b[0m                         \u001b[0mfile_links\u001b[0m\u001b[0;34m.\u001b[0m\u001b[0mappend\u001b[0m\u001b[0;34m(\u001b[0m\u001b[0mlink\u001b[0m\u001b[0;34m)\u001b[0m\u001b[0;34m\u001b[0m\u001b[0m\n",
      "\u001b[0;31mTypeError\u001b[0m: 'NoneType' object is not subscriptable"
     ]
    }
   ],
   "source": [
    "file_links = []\n",
    "for cityname in citynames:\n",
    "    html_city = get_html('cityname', cityname)\n",
    "    bs_city = bs(html_city,\"lxml\")\n",
    "    list_year = bs_city.find('button',id=id_year).find_next_sibling()\n",
    "    \n",
    "    years = []\n",
    "    for item in list_year.children:\n",
    "        if not item.isspace:\n",
    "            year = item.find('a').text\n",
    "            years.append(year)\n",
    "    \n",
    "    for year in years:\n",
    "        html_year = get_html(id_year, year)\n",
    "        bs_year = bs(html_year,\"lxml\")\n",
    "        list_month = bs_year.find('button',id=id_month).find_next_sibling()\n",
    "        for item in list_month.children:\n",
    "            if not item.isspace:\n",
    "                month = item.find('a').text\n",
    "                if month in valid_months:\n",
    "                    html_month = get_html(id_month, month)\n",
    "                    bs_month = bs(html_month,\"lxml\")\n",
    "                    link = bs_month.find('a', text=\"CSV\")['href']\n",
    "                    if link not in file_links:\n",
    "                        file_links.append(link)\n",
    "                        print(link)\n",
    "    "
   ]
  },
  {
   "cell_type": "markdown",
   "metadata": {},
   "source": [
    "Using links to retrieve all csv files:"
   ]
  },
  {
   "cell_type": "code",
   "execution_count": null,
   "metadata": {
    "collapsed": true
   },
   "outputs": [],
   "source": [
    "for link in file_links:\n",
    "    filename = os.path.basename(urlsplit(link).path)\n",
    "    with opener.open(link) as response, open(out_path+filename, 'wb') as out_file:\n",
    "        data = response.read() # a `bytes` object\n",
    "        out_file.write(data)"
   ]
  }
 ],
 "metadata": {
  "kernelspec": {
   "display_name": "Python 3",
   "language": "python",
   "name": "python3"
  },
  "language_info": {
   "codemirror_mode": {
    "name": "ipython",
    "version": 3
   },
   "file_extension": ".py",
   "mimetype": "text/x-python",
   "name": "python",
   "nbconvert_exporter": "python",
   "pygments_lexer": "ipython3",
   "version": "3.6.3"
  }
 },
 "nbformat": 4,
 "nbformat_minor": 2
}
